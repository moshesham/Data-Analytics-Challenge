{
 "cells": [
  {
   "cell_type": "markdown",
   "source": "# Day 14: Challenge Title\n\n## Objective\n\n- *A clear, one-sentence goal for the day.*\n\n## Tasks\n\n1.  **Task 1:** *Detailed description.*\n2.  **Task 2:** *Detailed description.*"
  },
  {
   "cell_type": "code",
   "source": "# Your code here"
  }
 ],
 "metadata": {},
 "nbformat": 4,
 "nbformat_minor": 2
}
